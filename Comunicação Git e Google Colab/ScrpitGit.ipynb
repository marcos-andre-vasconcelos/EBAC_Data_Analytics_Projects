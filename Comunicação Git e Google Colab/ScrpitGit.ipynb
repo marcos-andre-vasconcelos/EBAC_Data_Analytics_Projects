{
 "cells": [
  {
   "cell_type": "markdown",
   "metadata": {},
   "source": [
    "### Script de comunicação do Google Colab com GitHub"
   ]
  },
  {
   "cell_type": "code",
   "execution_count": null,
   "metadata": {},
   "outputs": [],
   "source": [
    "!git init"
   ]
  },
  {
   "cell_type": "code",
   "execution_count": null,
   "metadata": {},
   "outputs": [],
   "source": [
    "!git status"
   ]
  },
  {
   "cell_type": "code",
   "execution_count": null,
   "metadata": {},
   "outputs": [],
   "source": [
    "import os\n",
    "\n",
    "username = \"seu usuario git\"\n",
    "os.environ[\"GITHUB_USER\"] = username\n",
    "\n",
    "!git config --global user.name \"${GITHUB_USER}\""
   ]
  },
  {
   "cell_type": "code",
   "execution_count": null,
   "metadata": {},
   "outputs": [],
   "source": [
    "import os \n",
    "from getpass import getpass\n",
    "\n",
    "usermail = getpass()\n",
    "os.environ[\"GITHUB_MAIL\"] = usermail\n",
    "\n",
    "!git config --global user.email \"${GITHUB_MAIL}\""
   ]
  },
  {
   "cell_type": "markdown",
   "metadata": {},
   "source": [
    "- Necessário gerar um token de acesso pelo github."
   ]
  },
  {
   "cell_type": "code",
   "execution_count": null,
   "metadata": {},
   "outputs": [],
   "source": [
    "import os \n",
    "from getpass import getpass\n",
    "\n",
    "usertoken = getpass()\n",
    "os.environ[\"GITHUB_TOKEN\"] = usertoken"
   ]
  },
  {
   "cell_type": "code",
   "execution_count": null,
   "metadata": {},
   "outputs": [],
   "source": [
    "!git clone https://${GITHUB_USER}:${GITHUB_TOKEN}\"url do projeto @gitbub.com/........\""
   ]
  }
 ],
 "metadata": {
  "language_info": {
   "name": "python"
  },
  "orig_nbformat": 4
 },
 "nbformat": 4,
 "nbformat_minor": 2
}
